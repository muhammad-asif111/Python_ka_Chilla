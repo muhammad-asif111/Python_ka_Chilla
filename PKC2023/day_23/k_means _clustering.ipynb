{
 "cells": [
  {
   "cell_type": "markdown",
   "metadata": {},
   "source": [
    "# K-Means Clustering Unsupervised Theory\n",
    "    # Written By:     Dr Muhammad Asif Assistant\n",
    "\n",
    "    # Email:          asifbwp78654@gmail.com\n",
    "\n",
    "    # Date:           10-09-23  "
   ]
  },
  {
   "cell_type": "markdown",
   "metadata": {},
   "source": [
    "    # Supervised                    # Un supervised\n",
    "    # semi Supervised               # Reinforcement    "
   ]
  },
  {
   "cell_type": "markdown",
   "metadata": {},
   "source": [
    "    # supervised\n",
    "        # Classification\n",
    "        # Regression"
   ]
  },
  {
   "cell_type": "markdown",
   "metadata": {},
   "source": [
    "    # Unsupervided \n",
    "        # Clustering\n",
    "        # Dimensionality Reduction"
   ]
  },
  {
   "cell_type": "markdown",
   "metadata": {},
   "source": [
    "    1. Number of clusters = K = 3\n",
    "    2. random k distints points fit = initial clusters\n",
    "    3. measure distances \n",
    "    4. assign points to each clusters\n",
    "    5. mean of each clusters\n",
    "    6. repeat step 3 & 4\n",
    "    7. if same not repeat \n",
    "    8. via kmeans clustering / menual clustering\n",
    "    9. note variation\n",
    "    10. less variation selected "
   ]
  }
 ],
 "metadata": {
  "language_info": {
   "name": "python"
  },
  "orig_nbformat": 4
 },
 "nbformat": 4,
 "nbformat_minor": 2
}
