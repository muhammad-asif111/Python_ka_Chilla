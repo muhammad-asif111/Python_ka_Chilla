{
 "cells": [
  {
   "attachments": {},
   "cell_type": "markdown",
   "metadata": {},
   "source": [
    "##### **1st Note_Book**"
   ]
  },
  {
   "attachments": {},
   "cell_type": "markdown",
   "metadata": {},
   "source": [
    "**Subject of this python notebook**\\\n",
    "Authorized by : Dr Muhammad Asif\\\n",
    "Where to Contect : github profile link \"or\" email (gmail) google colab\\\n",
    "[Lecture-5](https://www.youtube.com/watch?v=V5Pk5qvRo7A&list=PL9XvIvvVL50Fba7psesg6ynQXdipw-yoN&index=11)"
   ]
  },
  {
   "cell_type": "code",
   "execution_count": 10,
   "metadata": {},
   "outputs": [
    {
     "name": "stdout",
     "output_type": "stream",
     "text": [
      "<class 'tuple'>\n"
     ]
    }
   ],
   "source": [
    "samosa =('maida','aalo','piaz','subz mirch','dhania', 'anadana')\n",
    "samosa\n",
    "print(type(samosa))"
   ]
  },
  {
   "cell_type": "code",
   "execution_count": 8,
   "metadata": {},
   "outputs": [
    {
     "data": {
      "text/plain": [
       "['Mangeos, Apples',\n",
       " 'Chery',\n",
       " 'pineapple',\n",
       " 'Stawbery',\n",
       " 'banana',\n",
       " 'peach',\n",
       " 'pear']"
      ]
     },
     "execution_count": 8,
     "metadata": {},
     "output_type": "execute_result"
    }
   ],
   "source": [
    "fruit_basket = [\"Mangeos, Apples\", \"Chery\", \"pineapple\",\"Stawbery\", \"banana\",\"peach\",\"pear\"]\n",
    "fruit_basket"
   ]
  },
  {
   "cell_type": "code",
   "execution_count": 9,
   "metadata": {},
   "outputs": [
    {
     "data": {
      "text/plain": [
       "{'Chery',\n",
       " 'Mangeos, Apples',\n",
       " 'Stawbery',\n",
       " 'banana',\n",
       " 'peach',\n",
       " 'pear',\n",
       " 'pineapple'}"
      ]
     },
     "execution_count": 9,
     "metadata": {},
     "output_type": "execute_result"
    }
   ],
   "source": [
    "fruit_basket = {\"Mangeos, Apples\", \"Chery\", \"pineapple\",\"Stawbery\", \"banana\",\"peach\",\"pear\"}\n",
    "fruit_basket"
   ]
  }
 ],
 "metadata": {
  "kernelspec": {
   "display_name": "Python 3",
   "language": "python",
   "name": "python3"
  },
  "language_info": {
   "codemirror_mode": {
    "name": "ipython",
    "version": 3
   },
   "file_extension": ".py",
   "mimetype": "text/x-python",
   "name": "python",
   "nbconvert_exporter": "python",
   "pygments_lexer": "ipython3",
   "version": "3.11.5"
  },
  "orig_nbformat": 4,
  "vscode": {
   "interpreter": {
    "hash": "02d6d79b5971a4a297df81f6354b4e93e00b9f2d2f4ed087af1aae72eca27a55"
   }
  }
 },
 "nbformat": 4,
 "nbformat_minor": 2
}
