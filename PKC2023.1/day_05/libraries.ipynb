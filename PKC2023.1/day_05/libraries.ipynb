{
 "cells": [
  {
   "cell_type": "code",
   "execution_count": null,
   "metadata": {},
   "outputs": [],
   "source": [
    "# pandas => dataframes excel\n",
    "# numpy  => \n",
    "# matplotlib    => for Ploting\n",
    "# seaborn       => based on matplotlib\n",
    "# plotly        => dashoards\n",
    "# scipy.stats   =>\n",
    "# sckkit-learn  => prediction \n",
    "# keras\n",
    "# steamlit      => "
   ]
  },
  {
   "attachments": {},
   "cell_type": "markdown",
   "metadata": {},
   "source": [
    "## 08 libraries \n",
    "#### Functions \n",
    "#### where to work \n",
    "#### how to use"
   ]
  },
  {
   "cell_type": "code",
   "execution_count": null,
   "metadata": {},
   "outputs": [],
   "source": []
  }
 ],
 "metadata": {
  "kernelspec": {
   "display_name": "Python 3",
   "language": "python",
   "name": "python3"
  },
  "language_info": {
   "codemirror_mode": {
    "name": "ipython",
    "version": 3
   },
   "file_extension": ".py",
   "mimetype": "text/x-python",
   "name": "python",
   "nbconvert_exporter": "python",
   "pygments_lexer": "ipython3",
   "version": "3.9.13"
  },
  "orig_nbformat": 4
 },
 "nbformat": 4,
 "nbformat_minor": 2
}
